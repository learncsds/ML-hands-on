{
 "cells": [
  {
   "cell_type": "code",
   "execution_count": 2,
   "metadata": {},
   "outputs": [
    {
     "name": "stdout",
     "output_type": "stream",
     "text": [
      "{'Name': 'Ram', 'Age': 43, 'Height': '6.1 ft', 2: 'Music'}\n"
     ]
    }
   ],
   "source": [
    "\n",
    "#Create a dictionary\n",
    "\n",
    "personal_data = {'Name': 'Ram', 'Age':(43), 'Height':\"6.1 ft\", 2: 'Music'}\n",
    "print(personal_data)"
   ]
  },
  {
   "cell_type": "code",
   "execution_count": 7,
   "metadata": {},
   "outputs": [
    {
     "data": {
      "text/plain": [
       "{'Name': 'Ram', 'Age': 43, 'Height': '6.1 ft', 2: 3}"
      ]
     },
     "execution_count": 7,
     "metadata": {},
     "output_type": "execute_result"
    }
   ],
   "source": [
    "personal_data[2]=3\n",
    "personal_data"
   ]
  },
  {
   "cell_type": "code",
   "execution_count": 13,
   "metadata": {},
   "outputs": [
    {
     "name": "stdout",
     "output_type": "stream",
     "text": [
      "Ram\n"
     ]
    }
   ],
   "source": [
    "print(personal_data.get(\"Name\",\"Not Found\"))"
   ]
  },
  {
   "cell_type": "code",
   "execution_count": 14,
   "metadata": {},
   "outputs": [
    {
     "name": "stdout",
     "output_type": "stream",
     "text": [
      "{'State': 'Andhra Pradesh', 'Cities': ['Vijayawada', 'Visakhapatnam']}\n"
     ]
    }
   ],
   "source": [
    "#Another way of creating the dictionary using 'dict' function\n",
    "\n",
    "new_dictionary = dict(State='Andhra Pradesh', Cities=['Vijayawada','Visakhapatnam'])\n",
    "print(new_dictionary)"
   ]
  },
  {
   "cell_type": "code",
   "execution_count": 15,
   "metadata": {},
   "outputs": [
    {
     "data": {
      "text/plain": [
       "{'Name': 'Ram',\n",
       " 'Age': 43,\n",
       " 'Height': '6.1 ft',\n",
       " 2: 3,\n",
       " 'State': 'Andhra Pradesh',\n",
       " 'Cities': ['Vijayawada', 'Visakhapatnam']}"
      ]
     },
     "execution_count": 15,
     "metadata": {},
     "output_type": "execute_result"
    }
   ],
   "source": [
    "personal_data.update(new_dictionary)\n",
    "personal_data"
   ]
  },
  {
   "cell_type": "code",
   "execution_count": null,
   "metadata": {},
   "outputs": [],
   "source": []
  }
 ],
 "metadata": {
  "kernelspec": {
   "display_name": "Python 3",
   "language": "python",
   "name": "python3"
  },
  "language_info": {
   "codemirror_mode": {
    "name": "ipython",
    "version": 3
   },
   "file_extension": ".py",
   "mimetype": "text/x-python",
   "name": "python",
   "nbconvert_exporter": "python",
   "pygments_lexer": "ipython3",
   "version": "3.7.1"
  }
 },
 "nbformat": 4,
 "nbformat_minor": 2
}
