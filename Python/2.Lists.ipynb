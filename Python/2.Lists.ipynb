{
 "cells": [
  {
   "cell_type": "code",
   "execution_count": 2,
   "metadata": {},
   "outputs": [
    {
     "name": "stdout",
     "output_type": "stream",
     "text": [
      "[]\n"
     ]
    }
   ],
   "source": [
    "#Empty list\n",
    "\n",
    "basic_empty_list = []\n",
    "print(basic_empty_list)"
   ]
  },
  {
   "cell_type": "code",
   "execution_count": 7,
   "metadata": {},
   "outputs": [
    {
     "name": "stdout",
     "output_type": "stream",
     "text": [
      "['hulk', 'SpiderMan', 'IronMan', 'Shaktiman', 1, 4]\n"
     ]
    }
   ],
   "source": [
    "superheroes=[\"hulk\",\"SpiderMan\",\"IronMan\",\"Shaktiman\",1,4]\n",
    "print(superheroes)"
   ]
  },
  {
   "cell_type": "code",
   "execution_count": 13,
   "metadata": {},
   "outputs": [
    {
     "data": {
      "text/plain": [
       "1"
      ]
     },
     "execution_count": 13,
     "metadata": {},
     "output_type": "execute_result"
    }
   ],
   "source": [
    "superheroes.index(\"SpiderMan\")\n"
   ]
  },
  {
   "cell_type": "code",
   "execution_count": 18,
   "metadata": {},
   "outputs": [
    {
     "data": {
      "text/plain": [
       "2"
      ]
     },
     "execution_count": 18,
     "metadata": {},
     "output_type": "execute_result"
    }
   ],
   "source": [
    "newlist = [4,3,2,3,4,7,3,1,5,2,4,5,2,5]\n",
    "newlist.index(2,2)"
   ]
  },
  {
   "cell_type": "code",
   "execution_count": 61,
   "metadata": {},
   "outputs": [
    {
     "data": {
      "text/plain": [
       "['hulk',\n",
       " 'SpiderMan',\n",
       " 'IronMan',\n",
       " 'Shaktiman',\n",
       " 1,\n",
       " 4,\n",
       " 4,\n",
       " 3,\n",
       " 2,\n",
       " 3,\n",
       " 4,\n",
       " 7,\n",
       " 3,\n",
       " 1,\n",
       " 5,\n",
       " 2,\n",
       " 4,\n",
       " 5,\n",
       " 2,\n",
       " 5]"
      ]
     },
     "execution_count": 61,
     "metadata": {},
     "output_type": "execute_result"
    }
   ],
   "source": [
    "l=superheroes+newlist\n",
    "l"
   ]
  },
  {
   "cell_type": "code",
   "execution_count": 34,
   "metadata": {},
   "outputs": [
    {
     "name": "stdout",
     "output_type": "stream",
     "text": [
      "['hulk', 'SpiderMan', 'IronMan', 'Shaktiman', 1]\n",
      "['SpiderMan', 'IronMan', 'Shaktiman']\n",
      "['Shaktiman']\n"
     ]
    }
   ],
   "source": [
    "print(l[:-15])\n",
    "print(l[1:-16])\n",
    "print(l[3:4])\n",
    "\n"
   ]
  },
  {
   "cell_type": "code",
   "execution_count": 53,
   "metadata": {},
   "outputs": [
    {
     "data": {
      "text/plain": [
       "['hulk', 'SpiderMan', 'IronMan', 4, 3, 2, 3, 4, 7]"
      ]
     },
     "execution_count": 53,
     "metadata": {},
     "output_type": "execute_result"
    }
   ],
   "source": [
    "l.pop()\n",
    "l\n",
    "\n"
   ]
  },
  {
   "cell_type": "code",
   "execution_count": 63,
   "metadata": {},
   "outputs": [
    {
     "data": {
      "text/plain": [
       "['hulk', 'SpiderMan', 'IronMan', 4, 4, 3, 2, 3, 4, 7, 3, 1, 5, 2, 4, 5, 2, 5]"
      ]
     },
     "execution_count": 63,
     "metadata": {},
     "output_type": "execute_result"
    }
   ],
   "source": [
    "l.pop(3)\n",
    "l\n"
   ]
  },
  {
   "cell_type": "code",
   "execution_count": 70,
   "metadata": {},
   "outputs": [
    {
     "data": {
      "text/plain": [
       "[1, 3, 5, 7, 9, 2, 4, 6, 8, 0]"
      ]
     },
     "execution_count": 70,
     "metadata": {},
     "output_type": "execute_result"
    }
   ],
   "source": [
    "odd=[1,3,5,7,9]\n",
    "even=[2,4,6,8,0]\n",
    "\n",
    "odd=odd+even\n",
    "odd\n"
   ]
  },
  {
   "cell_type": "code",
   "execution_count": 73,
   "metadata": {},
   "outputs": [],
   "source": [
    "python_history = \"Python has been in the industry for the last 3 decades. It pre-dates many of the modern programming languages.\""
   ]
  },
  {
   "cell_type": "code",
   "execution_count": 102,
   "metadata": {},
   "outputs": [
    {
     "data": {
      "text/plain": [
       "['Python',\n",
       " 'has',\n",
       " 'been',\n",
       " 'in',\n",
       " 'the',\n",
       " 'industry',\n",
       " 'for',\n",
       " 'the',\n",
       " 'last',\n",
       " '3',\n",
       " 'decades.',\n",
       " 'It',\n",
       " 'pre-dates',\n",
       " 'many',\n",
       " 'of',\n",
       " 'the',\n",
       " 'modern',\n",
       " 'programming',\n",
       " 'languages.']"
      ]
     },
     "execution_count": 102,
     "metadata": {},
     "output_type": "execute_result"
    }
   ],
   "source": [
    "l1=python_history.split()\n",
    "l1"
   ]
  },
  {
   "cell_type": "code",
   "execution_count": 99,
   "metadata": {},
   "outputs": [
    {
     "data": {
      "text/plain": [
       "['Python has been in the industry for the last 3 decades',\n",
       " ' It pre-dates many of the modern programming languages',\n",
       " '']"
      ]
     },
     "execution_count": 99,
     "metadata": {},
     "output_type": "execute_result"
    }
   ],
   "source": [
    "l2=python_history.split('.')\n",
    "l2"
   ]
  },
  {
   "cell_type": "code",
   "execution_count": 90,
   "metadata": {},
   "outputs": [
    {
     "data": {
      "text/plain": [
       "'Python $ has $ been $ in $ the $ industry $ for $ the $ last $ 3 $ decades. $ It $ pre-dates $ many $ of $ the $ modern $ programming $ languages.'"
      ]
     },
     "execution_count": 90,
     "metadata": {},
     "output_type": "execute_result"
    }
   ],
   "source": [
    "l3=' $ '.join(l1)\n",
    "l3"
   ]
  },
  {
   "cell_type": "code",
   "execution_count": 100,
   "metadata": {},
   "outputs": [
    {
     "data": {
      "text/plain": [
       "['Python has been in the industry for the last 3 decades',\n",
       " ' It pre-dates many of the modern programming languages',\n",
       " '']"
      ]
     },
     "execution_count": 100,
     "metadata": {},
     "output_type": "execute_result"
    }
   ],
   "source": [
    "l1=l2\n",
    "l1"
   ]
  },
  {
   "cell_type": "code",
   "execution_count": 103,
   "metadata": {},
   "outputs": [
    {
     "data": {
      "text/plain": [
       "['Python',\n",
       " 'has',\n",
       " 'been',\n",
       " 'in',\n",
       " 'the',\n",
       " 'industry',\n",
       " 'for',\n",
       " 'the',\n",
       " 'last',\n",
       " '3',\n",
       " 'decades.',\n",
       " 'It',\n",
       " 'pre-dates',\n",
       " 'many',\n",
       " 'of',\n",
       " 'the',\n",
       " 'modern',\n",
       " 'programming',\n",
       " 'languages.',\n",
       " 'Python has been in the industry for the last 3 decades',\n",
       " ' It pre-dates many of the modern programming languages',\n",
       " '',\n",
       " 'Python has been in the industry for the last 3 decades',\n",
       " ' It pre-dates many of the modern programming languages',\n",
       " '']"
      ]
     },
     "execution_count": 103,
     "metadata": {},
     "output_type": "execute_result"
    }
   ],
   "source": [
    "l1.extend(l2)\n",
    "l1"
   ]
  }
 ],
 "metadata": {
  "kernelspec": {
   "display_name": "Python 3",
   "language": "python",
   "name": "python3"
  },
  "language_info": {
   "codemirror_mode": {
    "name": "ipython",
    "version": 3
   },
   "file_extension": ".py",
   "mimetype": "text/x-python",
   "name": "python",
   "nbconvert_exporter": "python",
   "pygments_lexer": "ipython3",
   "version": "3.7.1"
  }
 },
 "nbformat": 4,
 "nbformat_minor": 2
}
