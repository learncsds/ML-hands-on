{
 "cells": [
  {
   "cell_type": "code",
   "execution_count": 34,
   "metadata": {},
   "outputs": [
    {
     "name": "stdout",
     "output_type": "stream",
     "text": [
      "13\n",
      "3.3333333333333335\n",
      "27\n",
      "0\n",
      "3\n",
      "(3, 0)\n",
      "3\n",
      "27\n",
      "3\n",
      "3.3\n",
      "3.24\n",
      "3.0\n",
      "False\n",
      "True\n",
      "False\n",
      "True\n",
      "True\n"
     ]
    }
   ],
   "source": [
    "# basic python #\n",
    "\n",
    "x=2\n",
    "y=3\n",
    "\n",
    "print(10+3)\n",
    "print(10/3) # devision\n",
    "print(3**3) # power\n",
    "print(6%2) # reminder\n",
    "print(6//2) # quotient\n",
    "########################################\n",
    "print(divmod(6,2))\n",
    "x+=1\n",
    "print(x)\n",
    "print(pow(x,y))\n",
    "\n",
    "########################################\n",
    "print(int(3.24))\n",
    "print(round(3.26,1))\n",
    "print(abs(3.24))\n",
    "print(float(3))\n",
    "\n",
    "########################################\n",
    "print(True < False)\n",
    "print(3<4)\n",
    "print(True and False)\n",
    "print(True or False)\n",
    "print(True and not False)\n"
   ]
  },
  {
   "cell_type": "code",
   "execution_count": 85,
   "metadata": {},
   "outputs": [
    {
     "name": "stdout",
     "output_type": "stream",
     "text": [
      "HelloWorld\n",
      "HelloWorld\n",
      "Hi,how are you\n",
      "D:\\hi\n",
      "owhere\n",
      "D:\\hi\\nowhere\n"
     ]
    }
   ],
   "source": [
    "print('Hello' + 'World')\n",
    "print(\"Hello\" + \"World\")\n",
    "print(\"Hi,how are you\")\n",
    "print(\"D:\\hi\\nowhere\")\n",
    "print(r\"D:\\hi\\nowhere\")\n"
   ]
  },
  {
   "cell_type": "code",
   "execution_count": 67,
   "metadata": {},
   "outputs": [
    {
     "name": "stdout",
     "output_type": "stream",
     "text": [
      " Hi Hi Hi Hi Hi\n",
      "24\n",
      "True\n",
      "HELLO WORLD HOW ARE YOU \n",
      "Hello World How Are You \n",
      "W\n"
     ]
    }
   ],
   "source": [
    "print(5 * \" Hi\")\n",
    "\n",
    "\"Hi \" + \" World\"\n",
    "x=\"Hello world how are you \"\n",
    "y=\"World\"\n",
    "print(len(x))\n",
    "\n",
    "print( 'w' in x)\n",
    "print(x.upper())\n",
    "print(x.title())\n",
    "print(min(y))"
   ]
  },
  {
   "cell_type": "code",
   "execution_count": 66,
   "metadata": {},
   "outputs": [
    {
     "name": "stdout",
     "output_type": "stream",
     "text": [
      "   Bengaluru is the capital of Karnataka    \n",
      "   Bengaluru is the capital of Karnataka\n",
      "Bengaluru is the capital of Karnataka    \n",
      "Bengaluru is the capital of Karnataka\n",
      "   Bengaluru is the capital of Karnataka3\n"
     ]
    }
   ],
   "source": [
    "space_right_string = \"   Bengaluru is the capital of Karnataka    \"\n",
    "space_right_string1 = \"   Bengaluru is the capital of Karnataka3121212\"\n",
    "print(space_right_string)\n",
    "print(space_right_string.rstrip())\n",
    "print(space_right_string.lstrip())\n",
    "print(space_right_string.strip())\n",
    "\n",
    "print(space_right_string1.rstrip('12'))\n"
   ]
  },
  {
   "cell_type": "code",
   "execution_count": 76,
   "metadata": {},
   "outputs": [
    {
     "name": "stdout",
     "output_type": "stream",
     "text": [
      "number of cars is 6\n",
      "6 c\n",
      " cars\n",
      "a\n",
      "6 car\n"
     ]
    }
   ],
   "source": [
    "val = \"6 cars\"\n",
    "no_of_cars = val[0] \n",
    "print('number of cars is', no_of_cars)\n",
    "print(val[:3])\n",
    "print(val[1:])\n",
    "print(val[3:4])\n",
    "print(val[:-1])\n"
   ]
  },
  {
   "cell_type": "code",
   "execution_count": 83,
   "metadata": {},
   "outputs": [
    {
     "name": "stdout",
     "output_type": "stream",
     "text": [
      "6\n"
     ]
    }
   ],
   "source": [
    "nums ='12345678'\n",
    "odd_nums = nums[5::3]\n",
    "print(odd_nums)"
   ]
  },
  {
   "cell_type": "code",
   "execution_count": 90,
   "metadata": {},
   "outputs": [
    {
     "name": "stdout",
     "output_type": "stream",
     "text": [
      "hi.nowhere.everywhere\n"
     ]
    }
   ],
   "source": [
    "x=\"hi\"\n",
    "y=\"nowhere\"\n",
    "z=\"everywhere\"\n",
    "\n",
    "print(\"{}.{}.{}\".format(x,y,z))\n"
   ]
  },
  {
   "cell_type": "code",
   "execution_count": 94,
   "metadata": {},
   "outputs": [
    {
     "name": "stdout",
     "output_type": "stream",
     "text": [
      "Enter no:3\n",
      "Enter no:6\n",
      "9\n",
      "-3\n",
      "18\n",
      "729\n",
      "0.5\n",
      "0\n",
      "3\n"
     ]
    }
   ],
   "source": [
    "var2 = int(input(\"Enter no:\"))\n",
    "var3 = int(input(\"Enter no:\"))\n",
    "\n",
    "print(var2+var3)\n",
    "print(var2-var3)\n",
    "print(var2*var3)\n",
    "print(var2**var3)\n",
    "print(var2/var3)\n",
    "print(var2//var3)\n",
    "print(var2%var3)"
   ]
  },
  {
   "cell_type": "code",
   "execution_count": 106,
   "metadata": {},
   "outputs": [
    {
     "name": "stdout",
     "output_type": "stream",
     "text": [
      "18\n",
      "\n",
      "\n",
      "205\n",
      "of comments as a paragraph then wrap the comment in three quotes as here\n"
     ]
    }
   ],
   "source": [
    "x=\"\"\" This is an example of converting the lower case characters to uppercase\n",
    " and upper case letters to lower case. This comment is example of writing comments in three quotes. \n",
    " If you want to write multiple lines of comments as a paragraph then wrap the comment in three quotes as here\"\"\"\n",
    "print(x.count('a'))\n",
    "print(min(x))\n",
    "print(x.find('lines'))\n",
    "print((x[x.find('lines')+len('Lines'):]).strip())\n",
    "\n"
   ]
  }
 ],
 "metadata": {
  "kernelspec": {
   "display_name": "Python 3",
   "language": "python",
   "name": "python3"
  },
  "language_info": {
   "codemirror_mode": {
    "name": "ipython",
    "version": 3
   },
   "file_extension": ".py",
   "mimetype": "text/x-python",
   "name": "python",
   "nbconvert_exporter": "python",
   "pygments_lexer": "ipython3",
   "version": "3.7.1"
  }
 },
 "nbformat": 4,
 "nbformat_minor": 2
}
