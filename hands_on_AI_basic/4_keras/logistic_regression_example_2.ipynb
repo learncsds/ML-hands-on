{
 "cells": [
  {
   "cell_type": "markdown",
   "metadata": {},
   "source": [
    "## Logistic Regression for binary classification"
   ]
  },
  {
   "cell_type": "markdown",
   "metadata": {},
   "source": [
    "### Experiment - normalizing of input data and changing the optimizer, reducing the batch size"
   ]
  },
  {
   "cell_type": "markdown",
   "metadata": {},
   "source": [
    "### import the required libraries"
   ]
  },
  {
   "cell_type": "code",
   "execution_count": 1,
   "metadata": {},
   "outputs": [
    {
     "name": "stderr",
     "output_type": "stream",
     "text": [
      "Using TensorFlow backend.\n"
     ]
    },
    {
     "name": "stdout",
     "output_type": "stream",
     "text": [
      "2.2.4\n"
     ]
    }
   ],
   "source": [
    "import os  \n",
    "\n",
    "import numpy as np  \n",
    "import pandas as pd \n",
    " \n",
    "import matplotlib.pyplot as plt  \n",
    "%matplotlib inline\n",
    "\n",
    "from keras import regularizers\n",
    "from keras.models import Sequential\n",
    "from keras.layers import Dense\n",
    "from keras import optimizers\n",
    "\n",
    "import keras\n",
    "print (keras.__version__)\n"
   ]
  },
  {
   "cell_type": "markdown",
   "metadata": {},
   "source": [
    "## Load the data"
   ]
  },
  {
   "cell_type": "code",
   "execution_count": 2,
   "metadata": {},
   "outputs": [
    {
     "data": {
      "text/html": [
       "<div>\n",
       "<style scoped>\n",
       "    .dataframe tbody tr th:only-of-type {\n",
       "        vertical-align: middle;\n",
       "    }\n",
       "\n",
       "    .dataframe tbody tr th {\n",
       "        vertical-align: top;\n",
       "    }\n",
       "\n",
       "    .dataframe thead th {\n",
       "        text-align: right;\n",
       "    }\n",
       "</style>\n",
       "<table border=\"1\" class=\"dataframe\">\n",
       "  <thead>\n",
       "    <tr style=\"text-align: right;\">\n",
       "      <th></th>\n",
       "      <th>Exam 1</th>\n",
       "      <th>Exam 2</th>\n",
       "      <th>Admitted</th>\n",
       "    </tr>\n",
       "  </thead>\n",
       "  <tbody>\n",
       "    <tr>\n",
       "      <th>0</th>\n",
       "      <td>34.623660</td>\n",
       "      <td>78.024693</td>\n",
       "      <td>0</td>\n",
       "    </tr>\n",
       "    <tr>\n",
       "      <th>1</th>\n",
       "      <td>30.286711</td>\n",
       "      <td>43.894998</td>\n",
       "      <td>0</td>\n",
       "    </tr>\n",
       "    <tr>\n",
       "      <th>2</th>\n",
       "      <td>35.847409</td>\n",
       "      <td>72.902198</td>\n",
       "      <td>0</td>\n",
       "    </tr>\n",
       "    <tr>\n",
       "      <th>3</th>\n",
       "      <td>60.182599</td>\n",
       "      <td>86.308552</td>\n",
       "      <td>1</td>\n",
       "    </tr>\n",
       "    <tr>\n",
       "      <th>4</th>\n",
       "      <td>79.032736</td>\n",
       "      <td>75.344376</td>\n",
       "      <td>1</td>\n",
       "    </tr>\n",
       "  </tbody>\n",
       "</table>\n",
       "</div>"
      ],
      "text/plain": [
       "      Exam 1     Exam 2  Admitted\n",
       "0  34.623660  78.024693         0\n",
       "1  30.286711  43.894998         0\n",
       "2  35.847409  72.902198         0\n",
       "3  60.182599  86.308552         1\n",
       "4  79.032736  75.344376         1"
      ]
     },
     "execution_count": 2,
     "metadata": {},
     "output_type": "execute_result"
    }
   ],
   "source": [
    "path = 'ex2data1.txt'  \n",
    "data = pd.read_csv(path, names=['Exam 1', 'Exam 2', 'Admitted'])  \n",
    "data.head()"
   ]
  },
  {
   "cell_type": "markdown",
   "metadata": {},
   "source": [
    "## Plot the dataset"
   ]
  },
  {
   "cell_type": "code",
   "execution_count": 3,
   "metadata": {},
   "outputs": [
    {
     "data": {
      "text/plain": [
       "Text(0, 0.5, 'Exam 2 Score')"
      ]
     },
     "execution_count": 3,
     "metadata": {},
     "output_type": "execute_result"
    },
    {
     "data": {
      "image/png": "[encoded data removed]",
      "text/plain": [
       "<Figure size 864x576 with 1 Axes>"
      ]
     },
     "metadata": {
      "needs_background": "light"
     },
     "output_type": "display_data"
    }
   ],
   "source": [
    "positive = data[data['Admitted'].isin([1])]  \n",
    "negative = data[data['Admitted'].isin([0])]\n",
    "\n",
    "fig, ax = plt.subplots(figsize=(12,8))  \n",
    "ax.scatter(positive['Exam 1'], positive['Exam 2'], s=50, c='b', marker='o', label='Admitted')  \n",
    "ax.scatter(negative['Exam 1'], negative['Exam 2'], s=50, c='r', marker='x', label='Not Admitted')  \n",
    "ax.legend()  \n",
    "ax.set_xlabel('Exam 1 Score')  \n",
    "ax.set_ylabel('Exam 2 Score')"
   ]
  },
  {
   "cell_type": "code",
   "execution_count": 4,
   "metadata": {},
   "outputs": [
    {
     "name": "stdout",
     "output_type": "stream",
     "text": [
      "(100, 3)\n"
     ]
    }
   ],
   "source": [
    "print (data.shape)"
   ]
  },
  {
   "cell_type": "code",
   "execution_count": 5,
   "metadata": {},
   "outputs": [],
   "source": [
    "cols = data.shape[1]  \n",
    "X = data.iloc[:,0:cols-1]  \n",
    "y = data.iloc[:,cols-1:cols]"
   ]
  },
  {
   "cell_type": "code",
   "execution_count": 6,
   "metadata": {},
   "outputs": [
    {
     "name": "stdout",
     "output_type": "stream",
     "text": [
      "data_shape:  (100, 2)\n",
      "label_shape: (100, 1)\n"
     ]
    }
   ],
   "source": [
    "\n",
    "X = np.array(X.values)\n",
    "y = np.array(y.values)\n",
    "print ('data_shape: ',X.shape)\n",
    "print ('label_shape:',y.shape)"
   ]
  },
  {
   "cell_type": "code",
   "execution_count": 7,
   "metadata": {},
   "outputs": [
    {
     "name": "stdout",
     "output_type": "stream",
     "text": [
      "99.82785779692128 98.86943574220612\n"
     ]
    }
   ],
   "source": [
    "max_x1 = np.max(X[:,0])\n",
    "max_x2 = np.max(X[:,1])\n",
    "print (max_x1,max_x2)"
   ]
  },
  {
   "cell_type": "code",
   "execution_count": 8,
   "metadata": {},
   "outputs": [
    {
     "data": {
      "text/plain": [
       "array([[34.62365962, 78.02469282],\n",
       "       [30.28671077, 43.89499752],\n",
       "       [35.84740877, 72.90219803],\n",
       "       [60.18259939, 86.3085521 ],\n",
       "       [79.03273605, 75.34437644],\n",
       "       [45.08327748, 56.31637178],\n",
       "       [61.10666454, 96.51142588],\n",
       "       [75.02474557, 46.55401354],\n",
       "       [76.0987867 , 87.42056972],\n",
       "       [84.43281996, 43.53339331]])"
      ]
     },
     "execution_count": 8,
     "metadata": {},
     "output_type": "execute_result"
    }
   ],
   "source": [
    "X[0:10]"
   ]
  },
  {
   "cell_type": "code",
   "execution_count": 9,
   "metadata": {},
   "outputs": [
    {
     "data": {
      "text/plain": [
       "array([[0],\n",
       "       [0],\n",
       "       [0],\n",
       "       [1],\n",
       "       [1],\n",
       "       [0],\n",
       "       [1],\n",
       "       [1],\n",
       "       [1],\n",
       "       [1]], dtype=int64)"
      ]
     },
     "execution_count": 9,
     "metadata": {},
     "output_type": "execute_result"
    }
   ],
   "source": [
    "y[0:10]"
   ]
  },
  {
   "cell_type": "code",
   "execution_count": 10,
   "metadata": {},
   "outputs": [
    {
     "data": {
      "text/plain": [
       "array([[0.34683364, 0.78916899],\n",
       "       [0.30338937, 0.44396933],\n",
       "       [0.35909224, 0.73735829],\n",
       "       [0.60286378, 0.87295484],\n",
       "       [0.79169019, 0.76205933],\n",
       "       [0.45161019, 0.56960345],\n",
       "       [0.61212036, 0.97615026],\n",
       "       [0.75154118, 0.47086355],\n",
       "       [0.76230011, 0.88420217],\n",
       "       [0.84578415, 0.44031194]])"
      ]
     },
     "execution_count": 10,
     "metadata": {},
     "output_type": "execute_result"
    }
   ],
   "source": [
    "X[:,0]=X[:,0]/max_x1\n",
    "X[:,1]=X[:,1]/max_x2\n",
    "X[0:10]"
   ]
  },
  {
   "cell_type": "code",
   "execution_count": 11,
   "metadata": {},
   "outputs": [],
   "source": [
    "num_epoch = 100\n",
    "batch_size = 16"
   ]
  },
  {
   "cell_type": "code",
   "execution_count": 12,
   "metadata": {},
   "outputs": [
    {
     "name": "stdout",
     "output_type": "stream",
     "text": [
      "Epoch 1/100\n",
      "100/100 [==============================] - 0s 4ms/step - loss: 0.6773 - acc: 0.5800\n",
      "Epoch 2/100\n",
      "100/100 [==============================] - 0s 375us/step - loss: 0.6762 - acc: 0.5700\n",
      "Epoch 3/100\n",
      "100/100 [==============================] - 0s 400us/step - loss: 0.6757 - acc: 0.5700\n",
      "Epoch 4/100\n",
      "100/100 [==============================] - 0s 450us/step - loss: 0.6746 - acc: 0.5800\n",
      "Epoch 5/100\n",
      "100/100 [==============================] - 0s 350us/step - loss: 0.6736 - acc: 0.5900\n",
      "Epoch 6/100\n",
      "100/100 [==============================] - 0s 300us/step - loss: 0.6729 - acc: 0.6000\n",
      "Epoch 7/100\n",
      "100/100 [==============================] - 0s 350us/step - loss: 0.6720 - acc: 0.5900\n",
      "Epoch 8/100\n",
      "100/100 [==============================] - 0s 325us/step - loss: 0.6717 - acc: 0.6000\n",
      "Epoch 9/100\n",
      "100/100 [==============================] - 0s 250us/step - loss: 0.6714 - acc: 0.5900\n",
      "Epoch 10/100\n",
      "100/100 [==============================] - 0s 250us/step - loss: 0.6708 - acc: 0.5800\n",
      "Epoch 11/100\n",
      "100/100 [==============================] - 0s 300us/step - loss: 0.6698 - acc: 0.5800\n",
      "Epoch 12/100\n",
      "100/100 [==============================] - 0s 325us/step - loss: 0.6694 - acc: 0.5800\n",
      "Epoch 13/100\n",
      "100/100 [==============================] - 0s 350us/step - loss: 0.6689 - acc: 0.5900\n",
      "Epoch 14/100\n",
      "100/100 [==============================] - 0s 350us/step - loss: 0.6688 - acc: 0.5900\n",
      "Epoch 15/100\n",
      "100/100 [==============================] - 0s 275us/step - loss: 0.6684 - acc: 0.6000\n",
      "Epoch 16/100\n",
      "100/100 [==============================] - 0s 275us/step - loss: 0.6680 - acc: 0.6000\n",
      "Epoch 17/100\n",
      "100/100 [==============================] - 0s 225us/step - loss: 0.6675 - acc: 0.6000\n",
      "Epoch 18/100\n",
      "100/100 [==============================] - 0s 275us/step - loss: 0.6671 - acc: 0.6000\n",
      "Epoch 19/100\n",
      "100/100 [==============================] - 0s 250us/step - loss: 0.6665 - acc: 0.6000\n",
      "Epoch 20/100\n",
      "100/100 [==============================] - 0s 275us/step - loss: 0.6660 - acc: 0.6000\n",
      "Epoch 21/100\n",
      "100/100 [==============================] - 0s 250us/step - loss: 0.6658 - acc: 0.6000\n",
      "Epoch 22/100\n",
      "100/100 [==============================] - 0s 275us/step - loss: 0.6655 - acc: 0.6000\n",
      "Epoch 23/100\n",
      "100/100 [==============================] - 0s 275us/step - loss: 0.6652 - acc: 0.6100\n",
      "Epoch 24/100\n",
      "100/100 [==============================] - 0s 275us/step - loss: 0.6646 - acc: 0.6100\n",
      "Epoch 25/100\n",
      "100/100 [==============================] - 0s 250us/step - loss: 0.6643 - acc: 0.6100\n",
      "Epoch 26/100\n",
      "100/100 [==============================] - 0s 250us/step - loss: 0.6640 - acc: 0.6100\n",
      "Epoch 27/100\n",
      "100/100 [==============================] - 0s 350us/step - loss: 0.6636 - acc: 0.6100\n",
      "Epoch 28/100\n",
      "100/100 [==============================] - 0s 275us/step - loss: 0.6633 - acc: 0.6100\n",
      "Epoch 29/100\n",
      "100/100 [==============================] - 0s 250us/step - loss: 0.6631 - acc: 0.6100\n",
      "Epoch 30/100\n",
      "100/100 [==============================] - 0s 225us/step - loss: 0.6630 - acc: 0.6100\n",
      "Epoch 31/100\n",
      "100/100 [==============================] - 0s 325us/step - loss: 0.6627 - acc: 0.6100\n",
      "Epoch 32/100\n",
      "100/100 [==============================] - 0s 325us/step - loss: 0.6623 - acc: 0.6100\n",
      "Epoch 33/100\n",
      "100/100 [==============================] - 0s 225us/step - loss: 0.6620 - acc: 0.6100\n",
      "Epoch 34/100\n",
      "100/100 [==============================] - 0s 350us/step - loss: 0.6615 - acc: 0.6100\n",
      "Epoch 35/100\n",
      "100/100 [==============================] - 0s 175us/step - loss: 0.6613 - acc: 0.6100\n",
      "Epoch 36/100\n",
      "100/100 [==============================] - 0s 200us/step - loss: 0.6610 - acc: 0.6100\n",
      "Epoch 37/100\n",
      "100/100 [==============================] - 0s 275us/step - loss: 0.6608 - acc: 0.6100\n",
      "Epoch 38/100\n",
      "100/100 [==============================] - 0s 200us/step - loss: 0.6605 - acc: 0.6100\n",
      "Epoch 39/100\n",
      "100/100 [==============================] - 0s 200us/step - loss: 0.6604 - acc: 0.6100\n",
      "Epoch 40/100\n",
      "100/100 [==============================] - 0s 200us/step - loss: 0.6601 - acc: 0.6100\n",
      "Epoch 41/100\n",
      "100/100 [==============================] - 0s 175us/step - loss: 0.6599 - acc: 0.6100\n",
      "Epoch 42/100\n",
      "100/100 [==============================] - 0s 175us/step - loss: 0.6598 - acc: 0.6100\n",
      "Epoch 43/100\n",
      "100/100 [==============================] - 0s 200us/step - loss: 0.6595 - acc: 0.6100\n",
      "Epoch 44/100\n",
      "100/100 [==============================] - 0s 275us/step - loss: 0.6592 - acc: 0.6100\n",
      "Epoch 45/100\n",
      "100/100 [==============================] - 0s 175us/step - loss: 0.6590 - acc: 0.6100\n",
      "Epoch 46/100\n",
      "100/100 [==============================] - 0s 200us/step - loss: 0.6587 - acc: 0.6000\n",
      "Epoch 47/100\n",
      "100/100 [==============================] - 0s 250us/step - loss: 0.6585 - acc: 0.6000\n",
      "Epoch 48/100\n",
      "100/100 [==============================] - 0s 200us/step - loss: 0.6582 - acc: 0.6100\n",
      "Epoch 49/100\n",
      "100/100 [==============================] - 0s 250us/step - loss: 0.6580 - acc: 0.6100\n",
      "Epoch 50/100\n",
      "100/100 [==============================] - 0s 250us/step - loss: 0.6578 - acc: 0.6100\n",
      "Epoch 51/100\n",
      "100/100 [==============================] - 0s 175us/step - loss: 0.6576 - acc: 0.6100\n",
      "Epoch 52/100\n",
      "100/100 [==============================] - 0s 200us/step - loss: 0.6573 - acc: 0.6200\n",
      "Epoch 53/100\n",
      "100/100 [==============================] - 0s 200us/step - loss: 0.6572 - acc: 0.6100\n",
      "Epoch 54/100\n",
      "100/100 [==============================] - 0s 200us/step - loss: 0.6571 - acc: 0.6100\n",
      "Epoch 55/100\n",
      "100/100 [==============================] - 0s 200us/step - loss: 0.6568 - acc: 0.6200\n",
      "Epoch 56/100\n",
      "100/100 [==============================] - 0s 250us/step - loss: 0.6565 - acc: 0.6200\n",
      "Epoch 57/100\n",
      "100/100 [==============================] - 0s 175us/step - loss: 0.6564 - acc: 0.6200\n",
      "Epoch 58/100\n",
      "100/100 [==============================] - 0s 250us/step - loss: 0.6560 - acc: 0.6200\n",
      "Epoch 59/100\n",
      "100/100 [==============================] - 0s 225us/step - loss: 0.6559 - acc: 0.6200\n",
      "Epoch 60/100\n",
      "100/100 [==============================] - 0s 175us/step - loss: 0.6556 - acc: 0.6200\n",
      "Epoch 61/100\n",
      "100/100 [==============================] - 0s 250us/step - loss: 0.6554 - acc: 0.6200\n",
      "Epoch 62/100\n",
      "100/100 [==============================] - 0s 275us/step - loss: 0.6553 - acc: 0.6200\n",
      "Epoch 63/100\n",
      "100/100 [==============================] - 0s 275us/step - loss: 0.6550 - acc: 0.6200\n",
      "Epoch 64/100\n",
      "100/100 [==============================] - 0s 350us/step - loss: 0.6548 - acc: 0.6200\n",
      "Epoch 65/100\n",
      "100/100 [==============================] - 0s 250us/step - loss: 0.6549 - acc: 0.6200\n",
      "Epoch 66/100\n",
      "100/100 [==============================] - 0s 200us/step - loss: 0.6545 - acc: 0.6200\n",
      "Epoch 67/100\n",
      "100/100 [==============================] - 0s 250us/step - loss: 0.6543 - acc: 0.6200\n",
      "Epoch 68/100\n",
      "100/100 [==============================] - 0s 200us/step - loss: 0.6541 - acc: 0.6200\n",
      "Epoch 69/100\n",
      "100/100 [==============================] - 0s 325us/step - loss: 0.6539 - acc: 0.6200\n",
      "Epoch 70/100\n",
      "100/100 [==============================] - 0s 175us/step - loss: 0.6537 - acc: 0.6200\n",
      "Epoch 71/100\n",
      "100/100 [==============================] - 0s 150us/step - loss: 0.6535 - acc: 0.6200\n",
      "Epoch 72/100\n",
      "100/100 [==============================] - 0s 200us/step - loss: 0.6533 - acc: 0.6200\n",
      "Epoch 73/100\n",
      "100/100 [==============================] - 0s 150us/step - loss: 0.6530 - acc: 0.6100\n",
      "Epoch 74/100\n",
      "100/100 [==============================] - 0s 125us/step - loss: 0.6528 - acc: 0.6100\n",
      "Epoch 75/100\n",
      "100/100 [==============================] - 0s 150us/step - loss: 0.6525 - acc: 0.6100\n",
      "Epoch 76/100\n",
      "100/100 [==============================] - 0s 150us/step - loss: 0.6523 - acc: 0.6200\n",
      "Epoch 77/100\n",
      "100/100 [==============================] - 0s 200us/step - loss: 0.6521 - acc: 0.6200\n",
      "Epoch 78/100\n",
      "100/100 [==============================] - 0s 200us/step - loss: 0.6520 - acc: 0.6100\n",
      "Epoch 79/100\n",
      "100/100 [==============================] - 0s 175us/step - loss: 0.6519 - acc: 0.6100\n",
      "Epoch 80/100\n",
      "100/100 [==============================] - 0s 200us/step - loss: 0.6515 - acc: 0.6200\n",
      "Epoch 81/100\n",
      "100/100 [==============================] - 0s 200us/step - loss: 0.6515 - acc: 0.6300\n",
      "Epoch 82/100\n",
      "100/100 [==============================] - 0s 150us/step - loss: 0.6511 - acc: 0.6300\n",
      "Epoch 83/100\n"
     ]
    },
    {
     "name": "stdout",
     "output_type": "stream",
     "text": [
      "100/100 [==============================] - 0s 225us/step - loss: 0.6509 - acc: 0.6300\n",
      "Epoch 84/100\n",
      "100/100 [==============================] - 0s 150us/step - loss: 0.6507 - acc: 0.6300\n",
      "Epoch 85/100\n",
      "100/100 [==============================] - 0s 175us/step - loss: 0.6505 - acc: 0.6200\n",
      "Epoch 86/100\n",
      "100/100 [==============================] - 0s 200us/step - loss: 0.6503 - acc: 0.6300\n",
      "Epoch 87/100\n",
      "100/100 [==============================] - 0s 150us/step - loss: 0.6502 - acc: 0.6300\n",
      "Epoch 88/100\n",
      "100/100 [==============================] - 0s 200us/step - loss: 0.6500 - acc: 0.6300\n",
      "Epoch 89/100\n",
      "100/100 [==============================] - 0s 250us/step - loss: 0.6498 - acc: 0.6200\n",
      "Epoch 90/100\n",
      "100/100 [==============================] - 0s 225us/step - loss: 0.6496 - acc: 0.6200\n",
      "Epoch 91/100\n",
      "100/100 [==============================] - 0s 175us/step - loss: 0.6494 - acc: 0.6200\n",
      "Epoch 92/100\n",
      "100/100 [==============================] - 0s 150us/step - loss: 0.6492 - acc: 0.6200\n",
      "Epoch 93/100\n",
      "100/100 [==============================] - 0s 200us/step - loss: 0.6490 - acc: 0.6300\n",
      "Epoch 94/100\n",
      "100/100 [==============================] - 0s 175us/step - loss: 0.6487 - acc: 0.6300\n",
      "Epoch 95/100\n",
      "100/100 [==============================] - 0s 175us/step - loss: 0.6485 - acc: 0.6300\n",
      "Epoch 96/100\n",
      "100/100 [==============================] - 0s 200us/step - loss: 0.6482 - acc: 0.6300\n",
      "Epoch 97/100\n",
      "100/100 [==============================] - 0s 225us/step - loss: 0.6482 - acc: 0.6300\n",
      "Epoch 98/100\n",
      "100/100 [==============================] - 0s 250us/step - loss: 0.6478 - acc: 0.6300\n",
      "Epoch 99/100\n",
      "100/100 [==============================] - 0s 275us/step - loss: 0.6477 - acc: 0.6300\n",
      "Epoch 100/100\n",
      "100/100 [==============================] - 0s 250us/step - loss: 0.6474 - acc: 0.6300\n"
     ]
    }
   ],
   "source": [
    "model = Sequential()\n",
    "#model.add(Dense(1, input_dim=2, activation='sigmoid',kernel_regularizer=regularizers.l2(0.5)))\n",
    "model.add(Dense(1, input_dim=2, activation='sigmoid'))\n",
    "#model.add(Dense(1, kernel_initializer='normal', activation='sigmoid'))\n",
    "# Compile model\n",
    "#sgd = optimizers.SGD(lr=0.01, decay=1e-6, momentum=0.9, nesterov=True)\n",
    "sgd = optimizers.SGD(lr=0.01)\n",
    "model.compile(loss='binary_crossentropy', optimizer=sgd, metrics=['accuracy'])\n",
    "#model.fit(X, y, nb_epoch=10, validation_data=(x_val, y_val))\n",
    "hist = model.fit(X, y, epochs=num_epoch,batch_size=batch_size)"
   ]
  },
  {
   "cell_type": "markdown",
   "metadata": {},
   "source": [
    "## Plotting the loss and accuracy curve"
   ]
  },
  {
   "cell_type": "code",
   "execution_count": 13,
   "metadata": {},
   "outputs": [],
   "source": [
    "import matplotlib.pyplot as plt\n",
    "%matplotlib inline"
   ]
  },
  {
   "cell_type": "code",
   "execution_count": 14,
   "metadata": {},
   "outputs": [
    {
     "data": {
      "image/png": "[encoded data removed]",
      "text/plain": [
       "<Figure size 504x360 with 1 Axes>"
      ]
     },
     "metadata": {
      "needs_background": "light"
     },
     "output_type": "display_data"
    },
    {
     "data": {
      "image/png": "[encoded data removed]",
      "text/plain": [
       "<Figure size 560x400 with 1 Axes>"
      ]
     },
     "metadata": {},
     "output_type": "display_data"
    }
   ],
   "source": [
    "# visualizing losses and accuracy\n",
    "train_loss=hist.history['loss']\n",
    "#val_loss=hist.history['val_loss']\n",
    "train_acc=hist.history['acc']\n",
    "#val_acc=hist.history['val_acc']\n",
    "xc=range(num_epoch)\n",
    "\n",
    "plt.figure(1,figsize=(7,5))\n",
    "plt.plot(xc,train_loss)\n",
    "#plt.plot(xc,val_loss)\n",
    "plt.xlabel('num of Epochs')\n",
    "plt.ylabel('loss')\n",
    "plt.title('train_loss')\n",
    "plt.grid(True)\n",
    "plt.legend(['train'])\n",
    "#print plt.style.available # use bmh, classic,ggplot for big pictures\n",
    "plt.style.use(['classic'])\n",
    "# To save the figure\n",
    "plt.savefig('loss_ex-2.png')\n",
    "\n",
    "plt.figure(2,figsize=(7,5))\n",
    "plt.plot(xc,train_acc)\n",
    "#plt.plot(xc,val_acc)\n",
    "plt.xlabel('num of Epochs')\n",
    "plt.ylabel('accuracy')\n",
    "plt.title('train_acc')\n",
    "plt.grid(True)\n",
    "plt.legend(['train'],loc=4)\n",
    "#print plt.style.available # use bmh, classic,ggplot for big pictures\n",
    "plt.style.use(['classic'])\n",
    "# To save the figure\n",
    "plt.savefig('acc_ex-2.png')"
   ]
  },
  {
   "cell_type": "markdown",
   "metadata": {},
   "source": [
    "## Evaluating the trained model"
   ]
  },
  {
   "cell_type": "code",
   "execution_count": 15,
   "metadata": {},
   "outputs": [
    {
     "name": "stdout",
     "output_type": "stream",
     "text": [
      "100/100 [==============================] - 0s 2ms/step\n",
      "loss: 0.6472899937629699\n",
      "acc:  63.0%\n"
     ]
    }
   ],
   "source": [
    "x_test=X\n",
    "score = model.evaluate(x_test,y)\n",
    "print ('loss:', score[0])\n",
    "print ('acc: ', str(score[1]*100) + '%')\n"
   ]
  },
  {
   "cell_type": "markdown",
   "metadata": {},
   "source": [
    "## Computing the prediction on new data"
   ]
  },
  {
   "cell_type": "code",
   "execution_count": 16,
   "metadata": {},
   "outputs": [
    {
     "data": {
      "text/plain": [
       "array([[0.6299688 ],\n",
       "       [0.6716781 ],\n",
       "       [0.529755  ],\n",
       "       [0.6838826 ],\n",
       "       [0.51549137],\n",
       "       [0.53691804],\n",
       "       [0.73179084],\n",
       "       [0.59132123],\n",
       "       [0.640611  ],\n",
       "       [0.6991002 ]], dtype=float32)"
      ]
     },
     "execution_count": 16,
     "metadata": {},
     "output_type": "execute_result"
    }
   ],
   "source": [
    "model.predict(x_test[90:100])"
   ]
  },
  {
   "cell_type": "code",
   "execution_count": 17,
   "metadata": {},
   "outputs": [
    {
     "data": {
      "text/plain": [
       "array([[0],\n",
       "       [0],\n",
       "       [0],\n",
       "       [1],\n",
       "       [1],\n",
       "       [0],\n",
       "       [1],\n",
       "       [1],\n",
       "       [1],\n",
       "       [1]], dtype=int64)"
      ]
     },
     "execution_count": 17,
     "metadata": {},
     "output_type": "execute_result"
    }
   ],
   "source": [
    "y[0:10]"
   ]
  },
  {
   "cell_type": "code",
   "execution_count": 18,
   "metadata": {},
   "outputs": [
    {
     "data": {
      "text/plain": [
       "array([[1],\n",
       "       [1],\n",
       "       [1],\n",
       "       [1],\n",
       "       [1],\n",
       "       [1],\n",
       "       [1],\n",
       "       [1],\n",
       "       [1],\n",
       "       [1]])"
      ]
     },
     "execution_count": 18,
     "metadata": {},
     "output_type": "execute_result"
    }
   ],
   "source": [
    "model.predict_classes(x_test[90:100])"
   ]
  },
  {
   "cell_type": "markdown",
   "metadata": {},
   "source": [
    "## Saving the model and weights"
   ]
  },
  {
   "cell_type": "code",
   "execution_count": 19,
   "metadata": {},
   "outputs": [
    {
     "name": "stdout",
     "output_type": "stream",
     "text": [
      "Saved model to disk\n"
     ]
    }
   ],
   "source": [
    "# serialize model to JSON\n",
    "model_json = model.to_json()\n",
    "with open(\"logistic_reg_model.json\", \"w\") as json_file:\n",
    "    json_file.write(model_json)\n",
    "# serialize weights to HDF5\n",
    "model.save_weights(\"logistic_reg_model_weights.h5\")\n",
    "print(\"Saved model to disk\")"
   ]
  },
  {
   "cell_type": "markdown",
   "metadata": {},
   "source": [
    "## Loading the model and weights"
   ]
  },
  {
   "cell_type": "code",
   "execution_count": 20,
   "metadata": {},
   "outputs": [],
   "source": [
    "from keras.models import model_from_json\n",
    "from keras.models import load_model"
   ]
  },
  {
   "cell_type": "code",
   "execution_count": 21,
   "metadata": {},
   "outputs": [
    {
     "name": "stdout",
     "output_type": "stream",
     "text": [
      "Loaded model from disk\n"
     ]
    }
   ],
   "source": [
    "model_name = \"logistic_reg_model.json\"\n",
    "weight_name = \"logistic_reg_model_weights.h5\"\n",
    "\n",
    "json_file = open(model_name, 'r')\n",
    "loaded_model_json = json_file.read()\n",
    "json_file.close()\n",
    "loaded_model = model_from_json(loaded_model_json)\n",
    "# load weights into new model\n",
    "loaded_model.load_weights(weight_name)\n",
    "print(\"Loaded model from disk\")"
   ]
  },
  {
   "cell_type": "code",
   "execution_count": 22,
   "metadata": {},
   "outputs": [
    {
     "data": {
      "text/plain": [
       "array([[0.6299688 ],\n",
       "       [0.6716781 ],\n",
       "       [0.529755  ],\n",
       "       [0.6838826 ],\n",
       "       [0.51549137],\n",
       "       [0.53691804],\n",
       "       [0.73179084],\n",
       "       [0.59132123],\n",
       "       [0.640611  ],\n",
       "       [0.6991002 ]], dtype=float32)"
      ]
     },
     "execution_count": 22,
     "metadata": {},
     "output_type": "execute_result"
    }
   ],
   "source": [
    "loaded_model.predict(x_test[90:100])"
   ]
  },
  {
   "cell_type": "code",
   "execution_count": 23,
   "metadata": {},
   "outputs": [],
   "source": [
    "#model.save('model.h5')\n",
    "#loaded_model=load_model('model.h5')"
   ]
  },
  {
   "cell_type": "code",
   "execution_count": null,
   "metadata": {},
   "outputs": [],
   "source": []
  }
 ],
 "metadata": {
  "kernelspec": {
   "display_name": "Python 3",
   "language": "python",
   "name": "python3"
  },
  "language_info": {
   "codemirror_mode": {
    "name": "ipython",
    "version": 3
   },
   "file_extension": ".py",
   "mimetype": "text/x-python",
   "name": "python",
   "nbconvert_exporter": "python",
   "pygments_lexer": "ipython3",
   "version": "3.6.6"
  }
 },
 "nbformat": 4,
 "nbformat_minor": 2
}
