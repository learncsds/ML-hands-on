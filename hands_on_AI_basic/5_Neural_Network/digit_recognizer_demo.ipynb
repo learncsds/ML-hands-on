{
 "cells": [
  {
   "cell_type": "code",
   "execution_count": 1,
   "metadata": {},
   "outputs": [
    {
     "name": "stderr",
     "output_type": "stream",
     "text": [
      "Using TensorFlow backend.\n"
     ]
    }
   ],
   "source": [
    "from keras.models import load_model\n",
    "import numpy as np\n",
    "import cv2"
   ]
  },
  {
   "cell_type": "code",
   "execution_count": 2,
   "metadata": {},
   "outputs": [],
   "source": [
    "loaded_model=load_model('nn_model_ex-2.h5')"
   ]
  },
  {
   "cell_type": "code",
   "execution_count": 8,
   "metadata": {},
   "outputs": [
    {
     "name": "stdout",
     "output_type": "stream",
     "text": [
      "width:  640.0\n",
      "height:  480.0\n"
     ]
    }
   ],
   "source": [
    "cap = cv2.VideoCapture(0)\n",
    "img_rows, img_cols = 28, 28\n",
    "\n",
    "width = cap.get(3)\n",
    "height = cap.get(4)\n",
    "\n",
    "while(True):\n",
    "    # Capture frame-by-frame\n",
    "    ret, frame = cap.read()\n",
    "\n",
    "    # Our operations on the frame come here\n",
    "    gray = cv2.cvtColor(frame, cv2.COLOR_BGR2GRAY)\n",
    "    #gray = cv2.flip( gray, 1 )\n",
    "    im_resized = cv2.resize(gray,(img_rows,img_cols))\n",
    "    # Otsu's thresholding\n",
    "    #ret2,th2 = cv2.threshold(im_resized,0,255,cv2.THRESH_BINARY_INV+cv2.THRESH_OTSU)\n",
    "    #th3=th2\n",
    "    inpt_data = im_resized.reshape(1, 784)\n",
    "    #print ('shape:',inpt_data.shape)\n",
    "    predicted_class=loaded_model.predict_classes(inpt_data)\n",
    "    #print ('predicted_class: ',predicted_class)\n",
    "    cv2.putText(gray, str(predicted_class), (15, 35), cv2.FONT_HERSHEY_SIMPLEX, 1.0, (255, 255, 255), lineType=cv2.LINE_AA)\n",
    "    # Display the resulting frame\n",
    "    cv2.imshow('frame',gray)\n",
    "    if cv2.waitKey(1) & 0xFF == ord('q'):\n",
    "        break\n",
    "\n",
    "# When everything done, release the capture\n",
    "cap.release()\n",
    "cv2.destroyAllWindows()\n",
    "\n",
    "print ('width: ', width)\n",
    "print ('height: ', height)"
   ]
  },
  {
   "cell_type": "code",
   "execution_count": null,
   "metadata": {},
   "outputs": [],
   "source": []
  }
 ],
 "metadata": {
  "kernelspec": {
   "display_name": "Python 3",
   "language": "python",
   "name": "python3"
  },
  "language_info": {
   "codemirror_mode": {
    "name": "ipython",
    "version": 3
   },
   "file_extension": ".py",
   "mimetype": "text/x-python",
   "name": "python",
   "nbconvert_exporter": "python",
   "pygments_lexer": "ipython3",
   "version": "3.6.6"
  }
 },
 "nbformat": 4,
 "nbformat_minor": 2
}
